{
 "cells": [
  {
   "cell_type": "markdown",
   "id": "9ee97104-928e-44a3-8f99-f83611580512",
   "metadata": {},
   "source": [
    "# 비지도 학습\n",
    "## 밀도 기반 군집 분석(Density-Based Spatial Clustering of Applications with Noise, DBSCAN)\n",
    "  \n",
    "###### 2023-12-22 KH.LIM @Cheongju\n",
    "###### 딥러닝 파이토치 교과서 참조\n",
    "###### 내용에 오류가 있으면 E-mail로 연락 주세요. i-space2014@daum.net"
   ]
  },
  {
   "cell_type": "markdown",
   "id": "82a0235e-154f-4e4d-9c14-970e67e5c8b0",
   "metadata": {},
   "source": [
    "밀도 기반 군집 분석은 일정 밀도 이상을 가진 데이터를 기준으로 군집을 형성하는 방법 임.   \n",
    "노이즈에 영향 받지 않으며, K-평균 군집화가 잘 처리하지 못하는 오목하거나 볼록한 부분을 처리하는 데 유용  \n",
    "데이터에 이상치가 많이 포함되었을 때도 사용  \n",
    "![](../ML06_DBSCAN/밀도기반군집_01.png)  \n",
    "<출처. 딥러닝 파이토치 교과서>"
   ]
  },
  {
   "cell_type": "markdown",
   "id": "70834e28-0a17-4a9d-b0d5-a4b77217fa66",
   "metadata": {},
   "source": [
    "밀도 기반 군집 분석 절차\n",
    "> 1단계. 엡실론 내 점 개수 확인 및 중심점 결정 : 거리 엡실론(epsilon) 내에 점이 m개 있으면 하나의 군집으로 인식하고, 점 P1을 중심점.  \n",
    "> 2단계. 군집 확장 : 데이터의 밀도 기반으로 군집을 생성하기 때문에 밀도가 높은 지역에서 중심점을 만족하는 데이터가 있다면 그 지역을 포함항 새로운 군집 생성,   \n",
    "> 예를 들어 1단계 P1 의 인근에 있는 P2를 새로운 중심점으로 m개의 데이터가 만족한다면 군집2가 만들어지고, P1을 중심으로한 군집과 P2를 중심으로 한 군집이 합쳐져 하나의 군집으로 확대 됨  \n",
    "![](../ML06_DBSCAN/밀도기반군집_02.png)  \n",
    "> ![](../ML06_DBSCAN/밀도기반군집_03.png)  \n",
    "<출처. 딥러닝 파이토치 교과서>\n",
    "> 3단계. 1~2단계 반복 : 데이터 밀도가 높은 지역에서 더 이상 중심점을 정의할 수 없을 때까지 반복  \n",
    "> 4단계. 노이즈 정의 : 어떤 군집에도 포함되지 않은 데이터를 노이즈로 정의한다."
   ]
  },
  {
   "cell_type": "code",
   "execution_count": null,
   "id": "d8e62b8f-85b9-4312-9c51-5c1eabc8ec10",
   "metadata": {},
   "outputs": [],
   "source": []
  }
 ],
 "metadata": {
  "kernelspec": {
   "display_name": "ve_torch_kernel",
   "language": "python",
   "name": "ve_torch"
  },
  "language_info": {
   "codemirror_mode": {
    "name": "ipython",
    "version": 3
   },
   "file_extension": ".py",
   "mimetype": "text/x-python",
   "name": "python",
   "nbconvert_exporter": "python",
   "pygments_lexer": "ipython3",
   "version": "3.10.11"
  }
 },
 "nbformat": 4,
 "nbformat_minor": 5
}
